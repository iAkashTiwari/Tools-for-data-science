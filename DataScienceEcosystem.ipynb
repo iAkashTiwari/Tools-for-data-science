{
 "cells": [
  {
   "cell_type": "markdown",
   "id": "0b7ad5ae-c114-42a6-a384-8f629c40fcad",
   "metadata": {
    "tags": []
   },
   "source": [
    "# Data Science Tools and Ecosystem"
   ]
  },
  {
   "cell_type": "markdown",
   "id": "398a024a-1872-47fd-9bc0-d265c2fbf3f4",
   "metadata": {},
   "source": [
    "In this notebook, Data Science Tools and Ecosystem are summarized."
   ]
  },
  {
   "cell_type": "markdown",
   "id": "e495b95c-18a1-4685-8ee9-4ec0f1dd0311",
   "metadata": {},
   "source": [
    "**Objectives:**"
   ]
  },
  {
   "cell_type": "code",
   "execution_count": 20,
   "id": "d6aaa30e-d15d-43d7-8c61-42f7582c4ee2",
   "metadata": {},
   "outputs": [],
   "source": [
    "my_list = ['Languages for data science', 'Tolls for data science', 'Libraries for data science']"
   ]
  },
  {
   "cell_type": "markdown",
   "id": "8654c3e1-0b45-4edd-83ec-fa0bcb7867fe",
   "metadata": {},
   "source": [
    "Some of the popular languages that Data Scientists use are:"
   ]
  },
  {
   "cell_type": "code",
   "execution_count": 3,
   "id": "c33c7d27-4fa1-412c-997c-dd1e8b07cc4f",
   "metadata": {},
   "outputs": [],
   "source": [
    "items = ['Python', 'R', 'SAS']"
   ]
  },
  {
   "cell_type": "markdown",
   "id": "497245ef-d85c-493b-aaa7-e87ebd9e9362",
   "metadata": {},
   "source": [
    "Some of the commonly used libraries used by Data Scientists include:"
   ]
  },
  {
   "cell_type": "code",
   "execution_count": 4,
   "id": "b49ecaad-ece8-4321-b794-cdd3b0443471",
   "metadata": {},
   "outputs": [],
   "source": [
    "items1 = ['Pandas', 'MatPlotlib', 'Tensorflow']"
   ]
  },
  {
   "cell_type": "markdown",
   "id": "687db5e5-d463-4aaf-851b-533e290faf5a",
   "metadata": {},
   "source": [
    "Data Science Tools"
   ]
  },
  {
   "cell_type": "markdown",
   "id": "490f08b5-4bc7-4f49-9663-61cd21d5e19f",
   "metadata": {},
   "source": [
    "Jupyter Notebook"
   ]
  },
  {
   "cell_type": "markdown",
   "id": "ab013810-085d-4daf-aa32-d47a760469a9",
   "metadata": {},
   "source": [
    "RStudio"
   ]
  },
  {
   "cell_type": "markdown",
   "id": "c18acbe3-34dc-404c-80e4-3fdbc48b494b",
   "metadata": {},
   "source": [
    "Spyder"
   ]
  },
  {
   "cell_type": "markdown",
   "id": "1b831f4c-557d-4bfc-844a-99137efa08bf",
   "metadata": {},
   "source": [
    "### Arithmetic Expression Examples"
   ]
  },
  {
   "cell_type": "code",
   "execution_count": 16,
   "id": "7fc808d0-684c-4bd6-a15c-7e5a53d265e9",
   "metadata": {},
   "outputs": [
    {
     "name": "stdout",
     "output_type": "stream",
     "text": [
      "8\n",
      "15\n",
      "2\n"
     ]
    }
   ],
   "source": [
    "x = 5\n",
    "y = 3\n",
    "\n",
    "print(x + y)\n",
    "print(x * y)\n",
    "print(x - y)"
   ]
  },
  {
   "cell_type": "code",
   "execution_count": 18,
   "id": "f45d2a6f-a2ab-47c5-919b-57580e7d0e31",
   "metadata": {},
   "outputs": [
    {
     "data": {
      "text/plain": [
       "17"
      ]
     },
     "execution_count": 18,
     "metadata": {},
     "output_type": "execute_result"
    }
   ],
   "source": [
    "#This a simple arithmetic expression to mutiply then add integers\n",
    "(3*4)+5"
   ]
  },
  {
   "cell_type": "code",
   "execution_count": 19,
   "id": "54bd9797-8653-4a65-bb1a-fff0cacf012f",
   "metadata": {},
   "outputs": [
    {
     "name": "stdout",
     "output_type": "stream",
     "text": [
      "3.3333333333333335\n"
     ]
    }
   ],
   "source": [
    "#This will convert 200 minutes to hours by diving by 60\n",
    "hours = 200 / 60\n",
    "print(hours)"
   ]
  },
  {
   "cell_type": "markdown",
   "id": "fc024aeb-1f86-4536-8528-c0f40602204f",
   "metadata": {},
   "source": [
    "## Author"
   ]
  },
  {
   "cell_type": "markdown",
   "id": "49abb214-e000-4ecb-b91a-5d789f8a26b4",
   "metadata": {},
   "source": [
    "Akash Tiwari"
   ]
  }
 ],
 "metadata": {
  "kernelspec": {
   "display_name": "Python",
   "language": "python",
   "name": "conda-env-python-py"
  },
  "language_info": {
   "codemirror_mode": {
    "name": "ipython",
    "version": 3
   },
   "file_extension": ".py",
   "mimetype": "text/x-python",
   "name": "python",
   "nbconvert_exporter": "python",
   "pygments_lexer": "ipython3",
   "version": "3.7.12"
  }
 },
 "nbformat": 4,
 "nbformat_minor": 5
}
